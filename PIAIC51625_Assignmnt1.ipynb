{
 "cells": [
  {
   "cell_type": "code",
   "execution_count": 352,
   "metadata": {
    "scrolled": false
   },
   "outputs": [
    {
     "name": "stdout",
     "output_type": "stream",
     "text": [
      "[[1 2 3]\n",
      " [4 5 6]\n",
      " [7 8 9]]\n"
     ]
    }
   ],
   "source": [
    "import numpy as np\n",
    "x=np.array([[1,2,3], [4,5,6],[7,8,9]])\n",
    "print(x)"
   ]
  },
  {
   "cell_type": "code",
   "execution_count": 353,
   "metadata": {},
   "outputs": [
    {
     "name": "stdout",
     "output_type": "stream",
     "text": [
      "[0. 0. 0. 0. 0. 0. 0. 0. 0. 0.]\n"
     ]
    }
   ],
   "source": [
    "import numpy as np\n",
    "x=np.zeros((10))\n",
    "print(x)"
   ]
  },
  {
   "cell_type": "code",
   "execution_count": 354,
   "metadata": {},
   "outputs": [
    {
     "name": "stdout",
     "output_type": "stream",
     "text": [
      "[10 11 12 13 14 15 16 17 18 19 20 21 22 23 24 25 26 27 28 29 30 31 32 33\n",
      " 34 35 36 37 38 39 40 41 42 43 44 45 46 47 48 49]\n"
     ]
    }
   ],
   "source": [
    "import numpy as np\n",
    "x=10 + np.arange(40)\n",
    "print(x)"
   ]
  },
  {
   "cell_type": "code",
   "execution_count": 51,
   "metadata": {},
   "outputs": [
    {
     "name": "stdout",
     "output_type": "stream",
     "text": [
      "(40,)\n"
     ]
    }
   ],
   "source": [
    "import numpy as np\n",
    "x=10 + np.arange(40)\n",
    "print(x.shape)"
   ]
  },
  {
   "cell_type": "code",
   "execution_count": 52,
   "metadata": {},
   "outputs": [
    {
     "data": {
      "text/plain": [
       "numpy.ndarray"
      ]
     },
     "execution_count": 52,
     "metadata": {},
     "output_type": "execute_result"
    }
   ],
   "source": [
    "import numpy as np\n",
    "x=10+ np.arange(40)\n",
    "type(x)"
   ]
  },
  {
   "cell_type": "code",
   "execution_count": 23,
   "metadata": {},
   "outputs": [
    {
     "name": "stdout",
     "output_type": "stream",
     "text": [
      "1.18.1\n",
      "blas_mkl_info:\n",
      "    libraries = ['mkl_rt']\n",
      "    library_dirs = ['C:/Users/zeesh/anaconda3\\\\Library\\\\lib']\n",
      "    define_macros = [('SCIPY_MKL_H', None), ('HAVE_CBLAS', None)]\n",
      "    include_dirs = ['C:\\\\Program Files (x86)\\\\IntelSWTools\\\\compilers_and_libraries_2019.0.117\\\\windows\\\\mkl', 'C:\\\\Program Files (x86)\\\\IntelSWTools\\\\compilers_and_libraries_2019.0.117\\\\windows\\\\mkl\\\\include', 'C:\\\\Program Files (x86)\\\\IntelSWTools\\\\compilers_and_libraries_2019.0.117\\\\windows\\\\mkl\\\\lib', 'C:/Users/zeesh/anaconda3\\\\Library\\\\include']\n",
      "blas_opt_info:\n",
      "    libraries = ['mkl_rt']\n",
      "    library_dirs = ['C:/Users/zeesh/anaconda3\\\\Library\\\\lib']\n",
      "    define_macros = [('SCIPY_MKL_H', None), ('HAVE_CBLAS', None)]\n",
      "    include_dirs = ['C:\\\\Program Files (x86)\\\\IntelSWTools\\\\compilers_and_libraries_2019.0.117\\\\windows\\\\mkl', 'C:\\\\Program Files (x86)\\\\IntelSWTools\\\\compilers_and_libraries_2019.0.117\\\\windows\\\\mkl\\\\include', 'C:\\\\Program Files (x86)\\\\IntelSWTools\\\\compilers_and_libraries_2019.0.117\\\\windows\\\\mkl\\\\lib', 'C:/Users/zeesh/anaconda3\\\\Library\\\\include']\n",
      "lapack_mkl_info:\n",
      "    libraries = ['mkl_rt']\n",
      "    library_dirs = ['C:/Users/zeesh/anaconda3\\\\Library\\\\lib']\n",
      "    define_macros = [('SCIPY_MKL_H', None), ('HAVE_CBLAS', None)]\n",
      "    include_dirs = ['C:\\\\Program Files (x86)\\\\IntelSWTools\\\\compilers_and_libraries_2019.0.117\\\\windows\\\\mkl', 'C:\\\\Program Files (x86)\\\\IntelSWTools\\\\compilers_and_libraries_2019.0.117\\\\windows\\\\mkl\\\\include', 'C:\\\\Program Files (x86)\\\\IntelSWTools\\\\compilers_and_libraries_2019.0.117\\\\windows\\\\mkl\\\\lib', 'C:/Users/zeesh/anaconda3\\\\Library\\\\include']\n",
      "lapack_opt_info:\n",
      "    libraries = ['mkl_rt']\n",
      "    library_dirs = ['C:/Users/zeesh/anaconda3\\\\Library\\\\lib']\n",
      "    define_macros = [('SCIPY_MKL_H', None), ('HAVE_CBLAS', None)]\n",
      "    include_dirs = ['C:\\\\Program Files (x86)\\\\IntelSWTools\\\\compilers_and_libraries_2019.0.117\\\\windows\\\\mkl', 'C:\\\\Program Files (x86)\\\\IntelSWTools\\\\compilers_and_libraries_2019.0.117\\\\windows\\\\mkl\\\\include', 'C:\\\\Program Files (x86)\\\\IntelSWTools\\\\compilers_and_libraries_2019.0.117\\\\windows\\\\mkl\\\\lib', 'C:/Users/zeesh/anaconda3\\\\Library\\\\include']\n",
      "None\n"
     ]
    }
   ],
   "source": [
    "import numpy as np\n",
    "print(np._version_)\n",
    "print(np.show_config())"
   ]
  },
  {
   "cell_type": "code",
   "execution_count": 31,
   "metadata": {},
   "outputs": [
    {
     "data": {
      "text/plain": [
       "1"
      ]
     },
     "execution_count": 31,
     "metadata": {},
     "output_type": "execute_result"
    }
   ],
   "source": [
    "import numpy as np\n",
    "x=np.zeros((10))\n",
    "x.ndim"
   ]
  },
  {
   "cell_type": "code",
   "execution_count": 38,
   "metadata": {},
   "outputs": [
    {
     "name": "stdout",
     "output_type": "stream",
     "text": [
      "[[ True  True  True]\n",
      " [ True  True  True]\n",
      " [ True  True  True]]\n"
     ]
    }
   ],
   "source": [
    "import numpy as np\n",
    "x=np.array([[1,2,3], [4,5,6],[7,8,9]])\n",
    "bool_array=(x>0)\n",
    "print(bool_array)"
   ]
  },
  {
   "cell_type": "code",
   "execution_count": 41,
   "metadata": {},
   "outputs": [
    {
     "name": "stdout",
     "output_type": "stream",
     "text": [
      "[[1 2 3]\n",
      " [4 5 6]]\n",
      "(2, 3)\n",
      "int32\n"
     ]
    }
   ],
   "source": [
    "# Two Dimentional Array\n",
    "import numpy as np\n",
    "x=np.array([[1,2,3], [4,5,6]])\n",
    "print(x)\n",
    "print(x.shape)\n",
    "print(x.dtype)"
   ]
  },
  {
   "cell_type": "code",
   "execution_count": 42,
   "metadata": {},
   "outputs": [
    {
     "name": "stdout",
     "output_type": "stream",
     "text": [
      "[[1 2 3]\n",
      " [4 5 6]\n",
      " [7 8 9]]\n",
      "(3, 3)\n",
      "int32\n"
     ]
    }
   ],
   "source": [
    "#Three Dimentional Array\n",
    "import numpy as np\n",
    "x=np.array([[1,2,3], [4,5,6],[7,8,9]])\n",
    "print(x)\n",
    "print(x.shape)\n",
    "print(x.dtype)"
   ]
  },
  {
   "cell_type": "code",
   "execution_count": 46,
   "metadata": {},
   "outputs": [
    {
     "name": "stdout",
     "output_type": "stream",
     "text": [
      "Original Array\n",
      "[1 2 3 4 5 6 7 8 9]\n",
      "Reverse Array\n",
      "[9 8 7 6 5 4 3 2 1]\n"
     ]
    }
   ],
   "source": [
    "#Reverse a vector (first element becomes last)\n",
    "import numpy as np\n",
    "x=np.arange(1,10)\n",
    "print(\"Original Array\")\n",
    "print(x)\n",
    "print(\"Reverse Array\")\n",
    "x=x[::-1]\n",
    "print(x)\n"
   ]
  },
  {
   "cell_type": "code",
   "execution_count": 60,
   "metadata": {},
   "outputs": [
    {
     "name": "stdout",
     "output_type": "stream",
     "text": [
      "Without Modification\n",
      "[0 1 2 3 4 5 6 7 8 9]\n",
      "Print 1 at 5th index\n",
      "[0 1 2 3 4 1 6 7 8 9]\n"
     ]
    }
   ],
   "source": [
    "#Create a null vector of size 10 but the fifth value which is 1\n",
    "import numpy as np\n",
    "x=np.arange(10)\n",
    "print(\"Without Modification\")\n",
    "print(x)\n",
    "print(\"Print 1 at 5th index\")\n",
    "x[5]=1\n",
    "print(x)\n"
   ]
  },
  {
   "cell_type": "code",
   "execution_count": 61,
   "metadata": {},
   "outputs": [
    {
     "name": "stdout",
     "output_type": "stream",
     "text": [
      "[[1. 0. 0.]\n",
      " [0. 1. 0.]\n",
      " [0. 0. 1.]]\n"
     ]
    }
   ],
   "source": [
    "#Create a 3x3 identity matrix\n",
    "import numpy as np\n",
    "x=np.identity(3)\n",
    "print(x)"
   ]
  },
  {
   "cell_type": "code",
   "execution_count": 66,
   "metadata": {},
   "outputs": [
    {
     "name": "stdout",
     "output_type": "stream",
     "text": [
      "Integer Type Array\n",
      "[1 2 3 4 5]\n",
      "Float Type Array\n",
      "[1. 2. 3. 4. 5.]\n"
     ]
    }
   ],
   "source": [
    "#Convert the data type of the given array from int to float\n",
    "import numpy as np\n",
    "arr=np.array([1,2,3,4,5])\n",
    "print(\"Integer Type Array\")\n",
    "print(arr)\n",
    "print(\"Float Type Array\")\n",
    "x=dtype=np.float64(arr)\n",
    "print(x)"
   ]
  },
  {
   "cell_type": "code",
   "execution_count": 76,
   "metadata": {},
   "outputs": [
    {
     "name": "stdout",
     "output_type": "stream",
     "text": [
      "1st way of Multiplication\n",
      "[[ 0.  8.  3.]\n",
      " [28. 10. 72.]]\n",
      "2nd way of Multiplication\n",
      "[[ 0.  8.  3.]\n",
      " [28. 10. 72.]]\n"
     ]
    }
   ],
   "source": [
    "#Multiply arr1 with arr2\n",
    "import numpy as np\n",
    "arr1=np.array([[1.0,2.0,3.0],[4.0,5.0,6.0]])\n",
    "arr2=np.array([[0.0,4.0,1.0],[7.0,2.0,12.0]])\n",
    "print(\"1st way of Multiplication\")\n",
    "print(arr1*arr2)\n",
    "print(\"2nd way of Multiplication\")\n",
    "arr= np.multiply(arr1,arr2)\n",
    "print(arr)"
   ]
  },
  {
   "cell_type": "code",
   "execution_count": 90,
   "metadata": {},
   "outputs": [
    {
     "name": "stdout",
     "output_type": "stream",
     "text": [
      "arr1 > arr2\n",
      "[[ True False  True]\n",
      " [False  True False]]\n",
      "arr1 >= arr2\n",
      "[[ True False  True]\n",
      " [False  True False]]\n",
      "arr1 < arr2\n",
      "[[False  True False]\n",
      " [ True False  True]]\n",
      "arr1 <= arr2\n",
      "[[False  True False]\n",
      " [ True False  True]]\n"
     ]
    }
   ],
   "source": [
    "#Make an array by comparing both the arrays provided above\n",
    "import numpy as np\n",
    "arr1=np.array([[1.0,2.0,3.0],[4.0,5.0,6.0]])\n",
    "arr2=np.array([[0.0,4.0,1.0],[7.0,2.0,12.0]])\n",
    "print(\"arr1 > arr2\")\n",
    "print(np.greater(arr1, arr2))\n",
    "print(\"arr1 >= arr2\")\n",
    "print(np.greater_equal(arr1, arr2))\n",
    "print(\"arr1 < arr2\")\n",
    "print(np.less(arr1, arr2))\n",
    "print(\"arr1 <= arr2\")\n",
    "print(np.less_equal(arr1, arr2))\n"
   ]
  },
  {
   "cell_type": "code",
   "execution_count": 129,
   "metadata": {},
   "outputs": [
    {
     "name": "stdout",
     "output_type": "stream",
     "text": [
      "[1 1 3 3 5 5 7 7 9]\n"
     ]
    }
   ],
   "source": [
    "#Extract all odd numbers from arr with values(0-9)\n",
    "import numpy as np \n",
    " \n",
    "data=np.arange(1,10,dtype=int) \n",
    "for i in range(len(data)): \n",
    "    if(i%2==1): \n",
    "        data[i]=i\n",
    "print(data) "
   ]
  },
  {
   "cell_type": "code",
   "execution_count": 127,
   "metadata": {},
   "outputs": [
    {
     "name": "stdout",
     "output_type": "stream",
     "text": [
      "[-1  2 -1  4 -1  6 -1  8 -1]\n"
     ]
    }
   ],
   "source": [
    "#Replace all odd numbers to -1 from previous array\n",
    "import numpy as np \n",
    " \n",
    "data=np.arange(1,10,dtype=int) \n",
    "for i in range(len(data)): \n",
    "    if(i%2==0): \n",
    "        data[i]=-1\n",
    "print(data) "
   ]
  },
  {
   "cell_type": "code",
   "execution_count": 135,
   "metadata": {},
   "outputs": [
    {
     "name": "stdout",
     "output_type": "stream",
     "text": [
      "[ 0  1  2  3  4 12 12 12 12  9]\n"
     ]
    }
   ],
   "source": [
    "#Replace the values of indexes 5,6,7 and 8 to 12\n",
    "import numpy as np\n",
    "arr = np.arange(10)\n",
    "arr[5]=12\n",
    "arr[6]=12\n",
    "arr[7]=12\n",
    "arr[8]=12\n",
    "print(arr)"
   ]
  },
  {
   "cell_type": "code",
   "execution_count": 139,
   "metadata": {},
   "outputs": [
    {
     "name": "stdout",
     "output_type": "stream",
     "text": [
      "Original\n",
      "[[1. 1. 1. 1. 1.]\n",
      " [1. 1. 1. 1. 1.]\n",
      " [1. 1. 1. 1. 1.]\n",
      " [1. 1. 1. 1. 1.]\n",
      " [1. 1. 1. 1. 1.]]\n",
      "1 on Border and 0 Inside the array\n",
      "[[1. 1. 1. 1. 1.]\n",
      " [1. 0. 0. 0. 1.]\n",
      " [1. 0. 0. 0. 1.]\n",
      " [1. 0. 0. 0. 1.]\n",
      " [1. 1. 1. 1. 1.]]\n"
     ]
    }
   ],
   "source": [
    "#Create a 2d array with 1 on the border and 0 inside\n",
    "import numpy as np\n",
    "x = np.ones((5,5))\n",
    "print(\"Original\")\n",
    "print(x)\n",
    "print(\"1 on Border and 0 Inside the array\")\n",
    "x[1:-1,1:-1] = 0\n",
    "print(x)"
   ]
  },
  {
   "cell_type": "code",
   "execution_count": 143,
   "metadata": {},
   "outputs": [
    {
     "name": "stdout",
     "output_type": "stream",
     "text": [
      "[[1 2 3]\n",
      " [4 5 6]\n",
      " [7 8 9]]\n",
      "[[ 1  2  3]\n",
      " [ 4 12  6]\n",
      " [ 7  8  9]]\n"
     ]
    }
   ],
   "source": [
    "#Replace the value 5 to 12\n",
    "import numpy as np\n",
    "arr2d = np.array([[1, 2, 3], [4, 5, 6], [7, 8, 9]])\n",
    "print(arr2d)\n",
    "arr2d[1,1]=12\n",
    "print(arr2d)"
   ]
  },
  {
   "cell_type": "code",
   "execution_count": 147,
   "metadata": {
    "scrolled": true
   },
   "outputs": [
    {
     "name": "stdout",
     "output_type": "stream",
     "text": [
      "Original Array\n",
      "[[[ 1  2  3]\n",
      "  [ 4  5  6]]\n",
      "\n",
      " [[ 7  8  9]\n",
      "  [10 11 12]]]\n",
      "After Correction\n",
      "[[[64 64 64]\n",
      "  [ 4  5  6]]\n",
      "\n",
      " [[ 7  8  9]\n",
      "  [10 11 12]]]\n"
     ]
    }
   ],
   "source": [
    "#Convert all the values of 1st array to 64\n",
    "import numpy as np\n",
    "arr3d = np.array([[[1, 2, 3], [4, 5, 6]], [[7, 8, 9], [10, 11, 12]]])\n",
    "print(\"Original Array\")\n",
    "print(arr3d)\n",
    "print(\"After Correction\")\n",
    "arr3d[0,0]=[64]\n",
    "print(arr3d)"
   ]
  },
  {
   "cell_type": "code",
   "execution_count": 151,
   "metadata": {},
   "outputs": [
    {
     "name": "stdout",
     "output_type": "stream",
     "text": [
      "2D Array\n",
      "[[11 22]\n",
      " [44 55]\n",
      " [77 88]]\n",
      "1D Array\n",
      "[33 66 99]\n"
     ]
    }
   ],
   "source": [
    "# Make a 2-Dimensional array with values 0-9 and slice out the first 1st 1-D array from it\n",
    "import numpy as np\n",
    "arr2d = np.array([[11, 22, 33],\n",
    "                [44, 55, 66],\n",
    "                [77, 88, 99]])\n",
    "\n",
    "a, b = data[:, :-1], data[:, -1]\n",
    "print(\"2D Array\")\n",
    "print(a)\n",
    "print(\"1D Array\")\n",
    "print(b)\n"
   ]
  },
  {
   "cell_type": "code",
   "execution_count": 157,
   "metadata": {},
   "outputs": [
    {
     "name": "stdout",
     "output_type": "stream",
     "text": [
      "1D Array\n",
      "(array([[11, 22, 33]]),)\n"
     ]
    }
   ],
   "source": [
    "#Make a 2-Dimensional array with values 0-9 and slice out the first 1st 1-D array from it\n",
    "import numpy as np\n",
    "arr2d = np.array([[11, 22, 33],\n",
    "                [44, 55, 66],\n",
    "                [77, 88, 99]])\n",
    "\n",
    "a = data[:1:],\n",
    "print(\"1D Array\")\n",
    "print(a)"
   ]
  },
  {
   "cell_type": "code",
   "execution_count": 209,
   "metadata": {
    "scrolled": true
   },
   "outputs": [
    {
     "name": "stdout",
     "output_type": "stream",
     "text": [
      "[[1 2 3]\n",
      " [4 5 6]\n",
      " [7 8 9]]\n",
      "After Slicing\n",
      "5\n"
     ]
    }
   ],
   "source": [
    "#Make a 2-Dimensional array with values 0-9 and slice out the 2nd value from 2nd 1-D array from it\n",
    "import numpy as np\n",
    "arr2d= np.array([[1,2,3], [4,5,6],[7,8,9]])\n",
    "print(arr2d)\n",
    "print(\"After Slicing\")\n",
    "a=arr2d[1,1]\n",
    "print(a)"
   ]
  },
  {
   "cell_type": "code",
   "execution_count": 234,
   "metadata": {},
   "outputs": [
    {
     "name": "stdout",
     "output_type": "stream",
     "text": [
      "[[1 2 3]\n",
      " [4 5 6]\n",
      " [7 8 9]]\n",
      "[[1 2]\n",
      " [4 5]]\n"
     ]
    }
   ],
   "source": [
    "#Make a 2-Dimensional array with values 0-9 and slice out the third column but only the first two rows\n",
    "import numpy as np\n",
    "arr2d= np.array([[1,2,3], [4,5,6],[7,8,9]])\n",
    "print(arr2d)\n",
    "c=arr2d[:2,:-1]\n",
    "print(c)"
   ]
  },
  {
   "cell_type": "code",
   "execution_count": 240,
   "metadata": {},
   "outputs": [
    {
     "name": "stdout",
     "output_type": "stream",
     "text": [
      "[[0.06819189 0.45980522 0.50991351 0.43574775 0.11889514 0.72118088\n",
      "  0.98540359 0.80397642 0.23224685 0.01815713]\n",
      " [0.62853662 0.01482259 0.10111638 0.87411826 0.20172808 0.5853469\n",
      "  0.75831817 0.55133295 0.90218953 0.26381665]\n",
      " [0.80934585 0.03316998 0.35775844 0.39211074 0.55799798 0.81538983\n",
      "  0.78929348 0.52011194 0.70158491 0.60977601]\n",
      " [0.23191681 0.89933632 0.70578586 0.52510534 0.59465588 0.53353497\n",
      "  0.64943515 0.26938308 0.45114626 0.75943311]\n",
      " [0.69545561 0.5453858  0.08827589 0.160162   0.67565117 0.51502732\n",
      "  0.74394111 0.77376936 0.51095471 0.31288724]\n",
      " [0.27365073 0.58243553 0.93772444 0.69057884 0.33149603 0.97433538\n",
      "  0.97626752 0.20153488 0.41604934 0.78505583]\n",
      " [0.46192554 0.25296073 0.65279407 0.9682709  0.1057182  0.15477567\n",
      "  0.01357501 0.82064575 0.33492676 0.97775404]\n",
      " [0.45397476 0.29995433 0.44856302 0.77839759 0.67469126 0.84192893\n",
      "  0.98177716 0.43196317 0.54310154 0.52437659]\n",
      " [0.46867202 0.81085723 0.7113812  0.24340465 0.60120406 0.7225453\n",
      "  0.69456659 0.13567057 0.78189043 0.14609807]\n",
      " [0.01705419 0.64358232 0.46413656 0.47859889 0.49478616 0.88957691\n",
      "  0.06125214 0.45594443 0.38270058 0.54979172]]\n"
     ]
    }
   ],
   "source": [
    "#Create a 10x10 array with random values and find the minimum and maximum values\n",
    "import numpy as np\n",
    "arr10d=np.random.random((10,10))\n",
    "print(arr10d)"
   ]
  },
  {
   "cell_type": "code",
   "execution_count": 248,
   "metadata": {},
   "outputs": [
    {
     "name": "stdout",
     "output_type": "stream",
     "text": [
      "[2 4]\n"
     ]
    }
   ],
   "source": [
    "#Find the common items between a and b\n",
    "import numpy as np\n",
    "a = np.array([1,2,3,2,3,4,3,4,5,6])\n",
    "b = np.array([7,2,10,2,7,4,9,4,9,8])\n",
    "print(np.intersect1d(a,b))"
   ]
  },
  {
   "cell_type": "code",
   "execution_count": 252,
   "metadata": {},
   "outputs": [
    {
     "name": "stdout",
     "output_type": "stream",
     "text": [
      "(array([1, 3, 5, 7], dtype=int64),)\n"
     ]
    }
   ],
   "source": [
    "#Find the positions where elements of a and b match\n",
    "import numpy as np\n",
    "a = np.array([1,2,3,2,3,4,3,4,5,6])\n",
    "b = np.array([7,2,10,2,7,4,9,4,9,8])\n",
    "print(np.where((np.in1d(a,b))))"
   ]
  },
  {
   "cell_type": "code",
   "execution_count": 256,
   "metadata": {},
   "outputs": [
    {
     "name": "stdout",
     "output_type": "stream",
     "text": [
      "(array([0, 1, 3, 5, 6], dtype=int64),)\n"
     ]
    }
   ],
   "source": [
    "#Find all the values from array data where the values from array names are not equal to Will\n",
    "import numpy as np\n",
    "names = np.array(['Bob', 'Joe', 'Will', 'Bob', 'Will', 'Joe', 'Joe']) \n",
    "data = np.random.randn(7, 4)\n",
    "x=np.where(names!='Will')\n",
    "print(x)"
   ]
  },
  {
   "cell_type": "code",
   "execution_count": 272,
   "metadata": {},
   "outputs": [
    {
     "name": "stdout",
     "output_type": "stream",
     "text": [
      "(array([0, 1, 3, 5, 6], dtype=int64),) (array([0, 2, 3, 4], dtype=int64),)\n"
     ]
    }
   ],
   "source": [
    "#Find all the values from array data where the values from array names are not equal to Will and Joe\n",
    "\n",
    "import numpy as np\n",
    "names = np.array(['Bob', 'Joe', 'Will', 'Bob', 'Will', 'Joe', 'Joe']) \n",
    "data = np.random.randn(7, 4)\n",
    "x=np.where(names!='Will')\n",
    "y=np.where(names!='Joe')\n",
    "print(x,y)"
   ]
  },
  {
   "cell_type": "code",
   "execution_count": 279,
   "metadata": {},
   "outputs": [
    {
     "name": "stdout",
     "output_type": "stream",
     "text": [
      "[[10.76451132 10.32638773 13.21952479]\n",
      " [13.41888659 11.70929644 12.24191626]\n",
      " [10.84661651 12.06055156 10.69730883]\n",
      " [12.67617489 13.78982364 14.70633519]\n",
      " [13.87953706 11.35268244 10.28007509]]\n"
     ]
    }
   ],
   "source": [
    "#Create a 2D array of shape 5x3 to contain decimal numbers between 1 and 15.\n",
    "import numpy as np\n",
    "x=np.random.rand(5, 3) * 5 + 10\n",
    "print(x)"
   ]
  },
  {
   "cell_type": "code",
   "execution_count": 276,
   "metadata": {},
   "outputs": [
    {
     "name": "stdout",
     "output_type": "stream",
     "text": [
      "[[[14.62909171 14.59034474 12.33058479 14.09858614]\n",
      "  [11.03368957 11.94120756 15.85804425 12.97585386]]\n",
      "\n",
      " [[11.39797076 15.92870304 12.16852084 11.17006843]\n",
      "  [12.2068027  11.07268573 15.32880846 11.22922535]]]\n"
     ]
    }
   ],
   "source": [
    "#Create an array of shape (2, 2, 4) with decimal numbers between 1 to 16.\n",
    "import numpy as np\n",
    "x=np.random.rand(2,2,4) * 5 + 11\n",
    "print(x)"
   ]
  },
  {
   "cell_type": "code",
   "execution_count": 282,
   "metadata": {},
   "outputs": [
    {
     "name": "stdout",
     "output_type": "stream",
     "text": [
      "[[[12.91689216 14.47082654 13.27565248 15.11855754]\n",
      "  [12.16255446 12.94044336 13.73923622 11.11064539]]\n",
      "\n",
      " [[13.09787191 13.99985006 13.97813282 11.37991264]\n",
      "  [11.39593572 12.5964635  12.29539837 12.5875311 ]]]\n",
      "After Swaping Axes\n",
      "[[[12.91689216 13.09787191]\n",
      "  [12.16255446 11.39593572]]\n",
      "\n",
      " [[14.47082654 13.99985006]\n",
      "  [12.94044336 12.5964635 ]]\n",
      "\n",
      " [[13.27565248 13.97813282]\n",
      "  [13.73923622 12.29539837]]\n",
      "\n",
      " [[15.11855754 11.37991264]\n",
      "  [11.11064539 12.5875311 ]]]\n"
     ]
    }
   ],
   "source": [
    "#Swap axes of the array you created in Question 32\n",
    "import numpy as np\n",
    "x=np.random.rand(2,2,4) * 5 + 11\n",
    "y=np.swapaxes(x,0,2)\n",
    "print(x)\n",
    "print(\"After Swaping Axes\")\n",
    "print(y)"
   ]
  },
  {
   "cell_type": "code",
   "execution_count": 293,
   "metadata": {},
   "outputs": [
    {
     "name": "stdout",
     "output_type": "stream",
     "text": [
      "Original Array\n",
      "[0 1 2 3 4 5 6 7 8 9]\n",
      "After Square Root\n",
      "[0.         1.         1.41421356 1.73205081 2.         2.23606798\n",
      " 2.44948974 2.64575131 2.82842712 3.        ]\n",
      "After Applying Condition\n",
      "[[ 0.          0.          0.          0.        ]\n",
      " [-0.64604532 -0.76443796  2.20187849 -2.10172007]\n",
      " [-1.         -1.         -1.         -1.        ]\n",
      " [-1.08410373 -0.93007367  0.50688656  1.28851229]\n",
      " [-1.         -1.         -1.         -1.        ]\n",
      " [-0.59500481  1.7015241   0.18304927  0.74216237]\n",
      " [-1.         -1.         -1.         -1.        ]]\n"
     ]
    }
   ],
   "source": [
    "#Create an array of size 10, and find the square root of every element in the array, if the values less than 0.5, replace them with 0\n",
    "import numpy as np\n",
    "x=np.arange(10)\n",
    "print(\"Original Array\")\n",
    "print(x)\n",
    "y=np.sqrt(x)\n",
    "print(\"After Square Root\")\n",
    "print(y)\n",
    "print(\"After Applying Condition\")\n",
    "for i in range(len(data)): \n",
    "    if(i<0.5): \n",
    "        data[i]=0\n",
    "print(data)\n"
   ]
  },
  {
   "cell_type": "code",
   "execution_count": 303,
   "metadata": {},
   "outputs": [
    {
     "name": "stdout",
     "output_type": "stream",
     "text": [
      "[0.6601434  0.25674036 0.22356101 0.44833275 0.06917635 0.37360457\n",
      " 0.10650809 0.24798845 0.53268024 0.12952519 0.44110533 0.54795965]\n",
      "[0.83601116 0.36252003 0.73364968 0.20324979 0.33856594 0.80360597\n",
      " 0.78552783 0.21141557 0.3731133  0.10522006 0.02129036 0.95495652]\n",
      "Maximum Array Will be\n",
      "[0.83601116 0.36252003 0.73364968 0.44833275 0.33856594 0.80360597\n",
      " 0.78552783 0.24798845 0.53268024 0.12952519 0.44110533 0.95495652]\n"
     ]
    }
   ],
   "source": [
    "#Create two random arrays of range 12 and make an array with the maximum values between each element of the two arrays\n",
    "import numpy as np\n",
    "arr1=np.random.random(12)\n",
    "arr2=np.random.random(12)\n",
    "print(arr1)\n",
    "print(arr2)\n",
    "\n",
    "z=np.maximum(arr1,arr2)\n",
    "print(\"Maximum Array Will be\")\n",
    "print(z)"
   ]
  },
  {
   "cell_type": "code",
   "execution_count": 310,
   "metadata": {},
   "outputs": [
    {
     "name": "stdout",
     "output_type": "stream",
     "text": [
      "Before Unique & Sort\n",
      "['Bob' 'Joe' 'Will' 'Bob' 'Will' 'Joe' 'Joe']\n",
      "After Unique Command\n",
      "['Bob' 'Joe' 'Will']\n",
      "After Sort Command\n",
      "['Bob' 'Joe' 'Will']\n"
     ]
    }
   ],
   "source": [
    "#Find the unique names and sort them out\n",
    "import numpy as np\n",
    "names = np.array(['Bob', 'Joe', 'Will', 'Bob', 'Will', 'Joe', 'Joe'])\n",
    "print(\"Before Unique & Sort\")\n",
    "print(names)\n",
    "y=np.unique(names)\n",
    "z=np.sort(y)\n",
    "print(\"After Unique Command\")\n",
    "print(y)\n",
    "print(\"After Sort Command\")\n",
    "print(z)"
   ]
  },
  {
   "cell_type": "code",
   "execution_count": 313,
   "metadata": {},
   "outputs": [
    {
     "name": "stdout",
     "output_type": "stream",
     "text": [
      "[1 2 3 4]\n"
     ]
    }
   ],
   "source": [
    "#From array a remove all items present in array b\n",
    "import numpy as np\n",
    "a = np.array([1,2,3,4,5]) \n",
    "b = np.array([5,6,7,8,9])\n",
    "c=np.setdiff1d(a,b)\n",
    "print(c)\n"
   ]
  },
  {
   "cell_type": "code",
   "execution_count": 338,
   "metadata": {},
   "outputs": [
    {
     "name": "stdout",
     "output_type": "stream",
     "text": [
      "Original Array\n",
      "[[34 43 73]\n",
      " [82 22 12]\n",
      " [53 94 66]]\n",
      "After Removing Column 2\n",
      "[[34 73]\n",
      " [82 12]\n",
      " [53 66]]\n",
      "After Adding Column 2\n",
      "[34  1 43 73 82 22 12 53 94 66]\n",
      "[[34 43 73]\n",
      " [82 22 12]\n",
      " [53 94 66]\n",
      " [50 60 70]]\n"
     ]
    }
   ],
   "source": [
    "#Following is the input NumPy array delete column two and insert following new column in its place.\n",
    "import numpy as np\n",
    "sampleArray = np.array([[34,43,73],[82,22,12],[53,94,66]])\n",
    "newColumn = np.array([[10,10,10]])\n",
    "print(\"Original Array\")\n",
    "print(sampleArray)\n",
    "print(\"After Removing Column 2\")\n",
    "a_del = np.delete(sampleArray, 1, 1)\n",
    "print(a_del)\n",
    "print(\"After Adding Column 2\")\n",
    "a_add = np.insert(sampleArray,1,1)\n",
    "print(a_add)\n",
    "newArray = np.append(sampleArray, [[50, 60, 70]], axis = 0)\n",
    "print(newArray)"
   ]
  },
  {
   "cell_type": "code",
   "execution_count": 344,
   "metadata": {},
   "outputs": [
    {
     "name": "stdout",
     "output_type": "stream",
     "text": [
      "[[34 43 73]\n",
      " [82 22 12]\n",
      " [53 94 66]\n",
      " [10 10 10]]\n"
     ]
    }
   ],
   "source": [
    "import numpy as np\n",
    "a = np.array([[34,43,73],[82,22,12],[53,94,66]])\n",
    "b = np.array([[10,10,10]])\n",
    "print(np.append(a, b, axis=0))"
   ]
  },
  {
   "cell_type": "code",
   "execution_count": 347,
   "metadata": {},
   "outputs": [
    {
     "name": "stdout",
     "output_type": "stream",
     "text": [
      "[[ 28.  64.]\n",
      " [ 67. 181.]]\n"
     ]
    }
   ],
   "source": [
    "#Find the dot product of the above two matrix\n",
    "import numpy as np\n",
    "x = np.array([[1., 2., 3.], [4., 5., 6.]])\n",
    "y = np.array([[6., 23.], [-1, 7], [8, 9]])\n",
    "z=np.dot(x,y)\n",
    "print(z)"
   ]
  },
  {
   "cell_type": "code",
   "execution_count": 350,
   "metadata": {},
   "outputs": [
    {
     "name": "stdout",
     "output_type": "stream",
     "text": [
      "[0.70761282 0.48063259 0.58757586 0.34713172 0.30283028 0.13377783\n",
      " 0.50631598 0.60380354 0.58123122 0.99673746 0.33624821 0.5357268\n",
      " 0.6384262  0.52763999 0.36144787 0.83922413 0.86905473 0.06368394\n",
      " 0.08778199 0.08547185]\n",
      "After Sum\n",
      "[0.70761282 1.18824541 1.77582127 2.122953   2.42578328 2.55956111\n",
      " 3.0658771  3.66968064 4.25091186 5.24764933 5.58389754 6.11962434\n",
      " 6.75805054 7.28569052 7.64713839 8.48636252 9.35541725 9.41910119\n",
      " 9.50688318 9.59235503]\n"
     ]
    }
   ],
   "source": [
    "#Generate a matrix of 20 random values and find its cumulative sum\n",
    "import numpy as np\n",
    "arr=np.random.random(20)\n",
    "print(arr)\n",
    "print(\"After Sum\")\n",
    "arrresult=np.cumsum(arr)\n",
    "print(arrresult)\n"
   ]
  },
  {
   "cell_type": "code",
   "execution_count": null,
   "metadata": {},
   "outputs": [],
   "source": []
  }
 ],
 "metadata": {
  "kernelspec": {
   "display_name": "Python 3",
   "language": "python",
   "name": "python3"
  },
  "language_info": {
   "codemirror_mode": {
    "name": "ipython",
    "version": 3
   },
   "file_extension": ".py",
   "mimetype": "text/x-python",
   "name": "python",
   "nbconvert_exporter": "python",
   "pygments_lexer": "ipython3",
   "version": "3.7.6"
  }
 },
 "nbformat": 4,
 "nbformat_minor": 4
}
